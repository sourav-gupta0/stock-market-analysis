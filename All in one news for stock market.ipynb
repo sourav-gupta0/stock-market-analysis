{
 "cells": [
  {
   "cell_type": "code",
   "execution_count": 1,
   "id": "5ac3d16e",
   "metadata": {},
   "outputs": [],
   "source": [
    "from newsapi import NewsApiClient"
   ]
  },
  {
   "cell_type": "code",
   "execution_count": 2,
   "id": "07408f87",
   "metadata": {},
   "outputs": [
    {
     "name": "stdout",
     "output_type": "stream",
     "text": [
      "News articles related to IRFC:\n",
      "\n",
      "Article 1:\n",
      "Title: Sector churning: Power, defence, railway stocks fall up to 39% from peaks. What should investors do?\n",
      "Description: Power, defence, and railway stocks have seen significant declines from their 52-week highs due to sector churning. Experts advise caution, highlighting the need for clear signs of recovery before investing. While some stocks show stability, the overall market…\n",
      "URL: https://economictimes.indiatimes.com/markets/stocks/news/sector-churning-power-defence-railway-stocks-fall-up-to-39-from-peaks-what-should-investors-do/articleshow/113381149.cms\n",
      "\n",
      "==================================================\n",
      "\n",
      "Article 2:\n",
      "Title: Indian Railway Finance Corporation share are down by -1.96%, Nifty down by -0.95%\n",
      "Description: Indian Railway Finance Corporation Share Price Today : On the last trading day, Indian Railway Finance Corporation (IRFC) opened at  ₹173.25 and closed at  ₹170.10. The stock reached a high of  ₹174.10 and a low of  ₹168.15 during the day. Overall, the stock …\n",
      "URL: https://www.livemint.com/companies/indian-railway-finance-corporation-share-are-down-by-1-96-nifty-down-by-095-11725601776373.html\n",
      "\n",
      "==================================================\n",
      "\n",
      "Article 3:\n",
      "Title: Indian Railway Finance Corporation share are down by -1.39%, Nifty down by -0.11%\n",
      "Description: Indian Railway Finance Corporation Share Price Today : On the last trading day, Indian Railway Finance Corporation (IRFC) opened at  ₹176.55 and closed at  ₹173.55. The stock reached a high of  ₹177 and a low of  ₹173 during the session.\n",
      "URL: https://www.livemint.com/companies/indian-railway-finance-corporation-share-are-down-by-1-39-nifty-down-by-011-11725514336420.html\n",
      "\n",
      "==================================================\n",
      "\n",
      "Article 4:\n",
      "Title: Ireda seeks govt nod to sell up to 10% stake, to raise ₹4,500 crore to fund growth\n",
      "Description: Last week, Ireda secured its international credit rating from S&amp;P Global Ratings, which assigned it a long-term rating of 'BBB-' and short-term issuer rating of 'A-3', with a ‘stable’ outlook.\n",
      "URL: https://www.livemint.com/industry/banking/ireda-stake-sale-fund-growth-credit-rating-11725289842545.html\n",
      "\n",
      "==================================================\n",
      "\n",
      "Article 5:\n",
      "Title: F&O traders could get 80 new stocks to play\n",
      "Description: \"The real excitement kicks in if F&O inclusion for both these names happens within the next few months,\" said Nuvama Alternative's head Abhilash Pagaria. \"This could pave the way for Zomato and Jio to enter the Nifty 50 in the March 2025 review.\"\n",
      "URL: https://economictimes.indiatimes.com/markets/stocks/news/fo-traders-could-get-80-new-stocks-to-play/articleshow/112978252.cms\n",
      "\n",
      "==================================================\n",
      "\n"
     ]
    }
   ],
   "source": [
    "def get_stock_news(query, api_key):\n",
    "    newsapi = NewsApiClient(api_key=api_key)\n",
    "    try:\n",
    "        articles = newsapi.get_everything(q=query, language='en', sort_by='publishedAt', page_size=5)\n",
    "        return articles['articles']\n",
    "    except Exception as e:\n",
    "        print(f\"Error fetching news: {e}\")\n",
    "        return []\n",
    "if __name__ == \"__main__\":\n",
    "    news_api_key = '566ac244c3c94dfcaab3182ffbe61e31'\n",
    "    query = 'IRFC' #Company Name either in Initals but preferred full name\n",
    "    stock_news = get_stock_news(query, api_key=news_api_key)\n",
    "    print(f\"News articles related to {query}:\\n\")\n",
    "    if stock_news:\n",
    "        for idx, article in enumerate(stock_news, start=1):\n",
    "            print(f\"Article {idx}:\")\n",
    "            print(f\"Title: {article.get('title', 'N/A')}\")\n",
    "            print(f\"Description: {article.get('description', 'N/A')}\")\n",
    "            print(f\"URL: {article.get('url', 'N/A')}\")\n",
    "            print(\"\\n\" + \"=\"*50 + \"\\n\")\n",
    "    else:\n",
    "        print(\"No news articles found.\")"
   ]
  },
  {
   "cell_type": "code",
   "execution_count": null,
   "id": "ec972839",
   "metadata": {},
   "outputs": [],
   "source": []
  }
 ],
 "metadata": {
  "kernelspec": {
   "display_name": "Python 3 (ipykernel)",
   "language": "python",
   "name": "python3"
  },
  "language_info": {
   "codemirror_mode": {
    "name": "ipython",
    "version": 3
   },
   "file_extension": ".py",
   "mimetype": "text/x-python",
   "name": "python",
   "nbconvert_exporter": "python",
   "pygments_lexer": "ipython3",
   "version": "3.11.3"
  }
 },
 "nbformat": 4,
 "nbformat_minor": 5
}
